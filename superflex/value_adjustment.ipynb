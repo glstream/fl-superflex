{
 "cells": [
  {
   "cell_type": "code",
   "execution_count": 1,
   "metadata": {},
   "outputs": [],
   "source": [
    "import requests"
   ]
  },
  {
   "cell_type": "code",
   "execution_count": 5,
   "metadata": {},
   "outputs": [],
   "source": [
    "league_id = '711050188327849984'\n",
    "league_single_req = requests.get(f\"https://api.sleeper.app/v1/league/{league_id}\").json()"
   ]
  },
  {
   "cell_type": "code",
   "execution_count": 2,
   "metadata": {},
   "outputs": [],
   "source": [
    "url = 'https://api.sleeper.app/v1/league/918687274869121024/users'\n",
    "req = requests.get(url)"
   ]
  },
  {
   "cell_type": "code",
   "execution_count": 11,
   "metadata": {},
   "outputs": [
    {
     "data": {
      "text/plain": [
       "array([ 0.        ,  0.1010101 ,  0.2020202 ,  0.3030303 ,  0.4040404 ,\n",
       "        0.50505051,  0.60606061,  0.70707071,  0.80808081,  0.90909091,\n",
       "        1.01010101,  1.11111111,  1.21212121,  1.31313131,  1.41414141,\n",
       "        1.51515152,  1.61616162,  1.71717172,  1.81818182,  1.91919192,\n",
       "        2.02020202,  2.12121212,  2.22222222,  2.32323232,  2.42424242,\n",
       "        2.52525253,  2.62626263,  2.72727273,  2.82828283,  2.92929293,\n",
       "        3.03030303,  3.13131313,  3.23232323,  3.33333333,  3.43434343,\n",
       "        3.53535354,  3.63636364,  3.73737374,  3.83838384,  3.93939394,\n",
       "        4.04040404,  4.14141414,  4.24242424,  4.34343434,  4.44444444,\n",
       "        4.54545455,  4.64646465,  4.74747475,  4.84848485,  4.94949495,\n",
       "        5.05050505,  5.15151515,  5.25252525,  5.35353535,  5.45454545,\n",
       "        5.55555556,  5.65656566,  5.75757576,  5.85858586,  5.95959596,\n",
       "        6.06060606,  6.16161616,  6.26262626,  6.36363636,  6.46464646,\n",
       "        6.56565657,  6.66666667,  6.76767677,  6.86868687,  6.96969697,\n",
       "        7.07070707,  7.17171717,  7.27272727,  7.37373737,  7.47474747,\n",
       "        7.57575758,  7.67676768,  7.77777778,  7.87878788,  7.97979798,\n",
       "        8.08080808,  8.18181818,  8.28282828,  8.38383838,  8.48484848,\n",
       "        8.58585859,  8.68686869,  8.78787879,  8.88888889,  8.98989899,\n",
       "        9.09090909,  9.19191919,  9.29292929,  9.39393939,  9.49494949,\n",
       "        9.5959596 ,  9.6969697 ,  9.7979798 ,  9.8989899 , 10.        ])"
      ]
     },
     "execution_count": 11,
     "metadata": {},
     "output_type": "execute_result"
    }
   ],
   "source": [
    "np.linspace(0, 10, 100)"
   ]
  },
  {
   "cell_type": "code",
   "execution_count": 12,
   "metadata": {},
   "outputs": [],
   "source": [
    "import numpy as np\n",
    "\n",
    "# Define decay rate\n",
    "decay_rate = 0.5\n",
    "\n",
    "# Define time array (in seconds)\n",
    "time = np.linspace(0, 10, 100)\n",
    "\n",
    "# Generate exponential decay function\n",
    "decay = np.exp(-.1 * time)"
   ]
  },
  {
   "cell_type": "code",
   "execution_count": 53,
   "metadata": {},
   "outputs": [
    {
     "name": "stdout",
     "output_type": "stream",
     "text": [
      "[0.410424993119494, 0.5413411329464508, 0.6693904804452895, 0.7357588823428847, 0.6065306597126334]\n"
     ]
    }
   ],
   "source": [
    "import numpy as np\n",
    "\n",
    "# Define decay rate\n",
    "decay_rate = 0.5\n",
    "\n",
    "# Create a descending ranked list\n",
    "# ranked_list = [10,9,8,7,6,5, 4, 3, 2, 1]\n",
    "ranked_list = [5, 4, 3, 2, 1]\n",
    "\n",
    "# Get the length of the list\n",
    "n = len(ranked_list)\n",
    "\n",
    "# Create an array of ranks starting from n\n",
    "ranks = np.arange(n, 0, -1)\n",
    "\n",
    "# Generate the exponential decay values using the ranks and decay rate\n",
    "decayed_values = np.exp(-decay_rate * ranks)\n",
    "\n",
    "# Multiply the decayed values with the ranked list\n",
    "final_values = [ranked_list[i] * decayed_values[i] for i in range(n)]\n",
    "\n",
    "print(final_values)"
   ]
  },
  {
   "cell_type": "code",
   "execution_count": 54,
   "metadata": {},
   "outputs": [
    {
     "name": "stdout",
     "output_type": "stream",
     "text": [
      "[0.6065306597126334, 0.7357588823428847, 0.6693904804452895, 0.5413411329464508, 0.410424993119494]\n"
     ]
    }
   ],
   "source": [
    "import numpy as np\n",
    "\n",
    "# Define decay rate\n",
    "decay_rate = 0.5\n",
    "\n",
    "# Create a list of values from 1 to 5\n",
    "values = [1, 2, 3, 4, 5]\n",
    "\n",
    "# Get the length of the list\n",
    "n = len(values)\n",
    "\n",
    "# Create an array of positions starting from 1\n",
    "positions = np.arange(1, n+1)\n",
    "\n",
    "# Generate the exponential decay values using the positions and decay rate\n",
    "decayed_values = np.exp(-decay_rate * positions)\n",
    "\n",
    "# Multiply the decayed values with the original values\n",
    "final_values = [values[i] * decayed_values[i] for i in range(n)]\n",
    "\n",
    "print(final_values)"
   ]
  },
  {
   "cell_type": "code",
   "execution_count": 1,
   "metadata": {},
   "outputs": [],
   "source": [
    "import requests"
   ]
  },
  {
   "cell_type": "code",
   "execution_count": 2,
   "metadata": {},
   "outputs": [],
   "source": [
    "def get_league_managers(league_id:str) -> list:\n",
    "    league_managers_url = f\"https://api.sleeper.app/v1/league/{league_id}/users\"\n",
    "    leg_managers_res = requests.get(league_managers_url)\n",
    "    leg_managers = [(i[\"user_id\"], i[\"display_name\"], i[\"league_id\"]) for i in leg_managers_res.json()]\n",
    "    return leg_managers"
   ]
  },
  {
   "cell_type": "code",
   "execution_count": 4,
   "metadata": {},
   "outputs": [
    {
     "name": "stdout",
     "output_type": "stream",
     "text": [
      "[('195759845985488896', 'cookieonmyface', '927803762624798720'), ('341425758033440768', 'SuperN1ntend0', '927803762624798720'), ('342397313982976000', 'Gray_Matter', '927803762624798720'), ('398571788742746112', 'jmcg', '927803762624798720'), ('412309391895695360', 'thekackness', '927803762624798720'), ('412756333670977536', '92qaa', '927803762624798720'), ('417110483678535680', 'JoeLofberg', '927803762624798720'), ('422987142101217280', 'rmkelley15', '927803762624798720'), ('444700440517406720', 'efor10', '927803762624798720'), ('473331471461904384', 'DenverMilam', '927803762624798720'), ('653644013735333888', 'aachally', '927803762624798720'), ('728740682302337024', 'seejay1981', '927803762624798720')]\n"
     ]
    }
   ],
   "source": [
    "print(get_league_managers('927803762624798720'))"
   ]
  },
  {
   "cell_type": "code",
   "execution_count": 7,
   "metadata": {},
   "outputs": [],
   "source": [
    "draft_order_dict = {i[0]: 5 for i in get_league_managers('927803762624798720')}"
   ]
  },
  {
   "cell_type": "code",
   "execution_count": 8,
   "metadata": {},
   "outputs": [
    {
     "data": {
      "text/plain": [
       "{'195759845985488896': 5,\n",
       " '341425758033440768': 5,\n",
       " '342397313982976000': 5,\n",
       " '398571788742746112': 5,\n",
       " '412309391895695360': 5,\n",
       " '412756333670977536': 5,\n",
       " '417110483678535680': 5,\n",
       " '422987142101217280': 5,\n",
       " '444700440517406720': 5,\n",
       " '473331471461904384': 5,\n",
       " '653644013735333888': 5,\n",
       " '728740682302337024': 5}"
      ]
     },
     "execution_count": 8,
     "metadata": {},
     "output_type": "execute_result"
    }
   ],
   "source": [
    "draft_order_dict"
   ]
  },
  {
   "cell_type": "code",
   "execution_count": 34,
   "metadata": {},
   "outputs": [],
   "source": [
    "from collections import defaultdict\n",
    "\n",
    "draft_order_ = [(value,key) for key, value in draft_order_dict.items()]"
   ]
  },
  {
   "cell_type": "code",
   "execution_count": 29,
   "metadata": {},
   "outputs": [],
   "source": [
    "data_dict = defaultdict(list)"
   ]
  },
  {
   "cell_type": "code",
   "execution_count": 28,
   "metadata": {},
   "outputs": [
    {
     "ename": "TypeError",
     "evalue": "first argument must be callable or None",
     "output_type": "error",
     "traceback": [
      "\u001b[1;31m---------------------------------------------------------------------------\u001b[0m",
      "\u001b[1;31mTypeError\u001b[0m                                 Traceback (most recent call last)",
      "\u001b[1;32m<ipython-input-28-3a5f012b3467>\u001b[0m in \u001b[0;36m<module>\u001b[1;34m\u001b[0m\n\u001b[1;32m----> 1\u001b[1;33m \u001b[0mdefaultdict\u001b[0m\u001b[1;33m(\u001b[0m\u001b[0mdraft_order_\u001b[0m\u001b[1;33m)\u001b[0m\u001b[1;33m\u001b[0m\u001b[0m\n\u001b[0m",
      "\u001b[1;31mTypeError\u001b[0m: first argument must be callable or None"
     ]
    }
   ],
   "source": [
    "defaultdict(draft_order_)"
   ]
  },
  {
   "cell_type": "code",
   "execution_count": 19,
   "metadata": {},
   "outputs": [
    {
     "data": {
      "text/plain": [
       "dict_items([('195759845985488896', 5), ('341425758033440768', 5), ('342397313982976000', 5), ('398571788742746112', 5), ('412309391895695360', 5), ('412756333670977536', 5), ('417110483678535680', 5), ('422987142101217280', 5), ('444700440517406720', 5), ('473331471461904384', 5), ('653644013735333888', 5), ('728740682302337024', 5)])"
      ]
     },
     "execution_count": 19,
     "metadata": {},
     "output_type": "execute_result"
    }
   ],
   "source": [
    "draft_order_dict.items()"
   ]
  },
  {
   "cell_type": "code",
   "execution_count": 36,
   "metadata": {},
   "outputs": [
    {
     "data": {
      "text/plain": [
       "(5, '412756333670977536')"
      ]
     },
     "execution_count": 36,
     "metadata": {},
     "output_type": "execute_result"
    }
   ],
   "source": [
    "draft_order_[5]"
   ]
  },
  {
   "cell_type": "code",
   "execution_count": 21,
   "metadata": {},
   "outputs": [
    {
     "data": {
      "text/plain": [
       "{'195759845985488896': 5,\n",
       " '341425758033440768': 5,\n",
       " '342397313982976000': 5,\n",
       " '398571788742746112': 5,\n",
       " '412309391895695360': 5,\n",
       " '412756333670977536': 5,\n",
       " '417110483678535680': 5,\n",
       " '422987142101217280': 5,\n",
       " '444700440517406720': 5,\n",
       " '473331471461904384': 5,\n",
       " '653644013735333888': 5,\n",
       " '728740682302337024': 5}"
      ]
     },
     "execution_count": 21,
     "metadata": {},
     "output_type": "execute_result"
    }
   ],
   "source": [
    "dict(draft_order_)"
   ]
  },
  {
   "cell_type": "code",
   "execution_count": 37,
   "metadata": {},
   "outputs": [],
   "source": [
    "import requests"
   ]
  },
  {
   "cell_type": "code",
   "execution_count": 40,
   "metadata": {},
   "outputs": [],
   "source": [
    "req = requests.get('https://api.sleeper.app/v1/league/927803762624798720/rosters')\n",
    "\n",
    "p1 = req.json()"
   ]
  },
  {
   "cell_type": "code",
   "execution_count": 44,
   "metadata": {},
   "outputs": [
    {
     "data": {
      "text/plain": [
       "[('422987142101217280', 1),\n",
       " ('412756333670977536', 2),\n",
       " ('412309391895695360', 3),\n",
       " ('417110483678535680', 4),\n",
       " ('341425758033440768', 5),\n",
       " ('195759845985488896', 6),\n",
       " ('398571788742746112', 7),\n",
       " ('444700440517406720', 8),\n",
       " ('653644013735333888', 9),\n",
       " ('342397313982976000', 10),\n",
       " ('728740682302337024', 11),\n",
       " ('473331471461904384', 12)]"
      ]
     },
     "execution_count": 44,
     "metadata": {},
     "output_type": "execute_result"
    }
   ],
   "source": [
    "req_tuple = [(r['owner_id'], r['roster_id']) for r in p1]\n",
    "req_tuple"
   ]
  }
 ],
 "metadata": {
  "kernelspec": {
   "display_name": "Python 3.6.5 32-bit",
   "language": "python",
   "name": "python3"
  },
  "language_info": {
   "codemirror_mode": {
    "name": "ipython",
    "version": 3
   },
   "file_extension": ".py",
   "mimetype": "text/x-python",
   "name": "python",
   "nbconvert_exporter": "python",
   "pygments_lexer": "ipython3",
   "version": "3.6.5"
  },
  "orig_nbformat": 4,
  "vscode": {
   "interpreter": {
    "hash": "26f52f792f5f02bd1f451e5fdfcf804d348d3a4e73a72b3f393599ef81569900"
   }
  }
 },
 "nbformat": 4,
 "nbformat_minor": 2
}
